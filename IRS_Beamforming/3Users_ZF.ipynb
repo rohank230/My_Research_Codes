{
 "cells": [
  {
   "cell_type": "code",
   "execution_count": 19,
   "metadata": {},
   "outputs": [],
   "source": [
    "import numpy as np\n",
    "import matplotlib.pyplot as plt\n",
    "import random\n",
    "import os\n",
    "import math\n",
    "from Channel_Generation_5 import Channel_Generation_5 as GC\n"
   ]
  },
  {
   "cell_type": "code",
   "execution_count": 20,
   "metadata": {},
   "outputs": [
    {
     "name": "stdout",
     "output_type": "stream",
     "text": [
      "-80.0\n",
      "1e-11\n"
     ]
    }
   ],
   "source": [
    "# Deciding the system parameters\n",
    "# Tx Bandwidth is 100 MHz\n",
    "\n",
    "K = 3     # No. of users\n",
    "noise = -170 + 10 * np.log10(1000 * 1e6)   # noise in dBm\n",
    "print(noise)\n",
    "ite = 1000                 #no of channel realisations\n",
    "noise = 10 ** (noise/10 - 3) #linear scale\n",
    "print(noise)\n",
    "N = 150                      #no of elements in IRS\n",
    "M = 4"
   ]
  },
  {
   "cell_type": "code",
   "execution_count": 21,
   "metadata": {},
   "outputs": [],
   "source": [
    "power_dBm = np.array(range(5, 21, 2))\n",
    "P_mW = 10 ** (power_dBm/10) * 0.001\n",
    "P_range = len(P_mW)\n",
    "\n",
    "\n",
    "# Initialize the beamforming matrix W randomly\n",
    "W_1 =  np.random.rand(M,K) + 1j * np.random.rand(M,K)\n",
    "W = np.zeros((M,K), dtype='complex')\n",
    "W_ni = np.zeros((M,K), dtype='complex')\n",
    "#for p in range(P_range):\n",
    "for i in range(K):\n",
    "  W[:,i] = np.sqrt(1/K) * W_1[:,i] / np.linalg.norm(W_1[:,i])\n",
    "  W_ni[:,i] = W_1[:,i] / np.linalg.norm(W_1[:,i])\n",
    "\n",
    "\n",
    "# Initialising the phases at IRS\n",
    "phase0 = np.random.rand(N)*2*np.pi\n",
    "v = np.exp(1j*phase0)\n",
    "Theta = np.diag(v)"
   ]
  },
  {
   "cell_type": "code",
   "execution_count": 22,
   "metadata": {},
   "outputs": [
    {
     "name": "stdout",
     "output_type": "stream",
     "text": [
      "Hd= (3, 4)\n",
      "Hr= (3, 150)\n",
      "G= (150, 4)\n"
     ]
    }
   ],
   "source": [
    "Hr= np.zeros((P_range, ite, K, N), dtype= complex)\n",
    "Hd= np.zeros((P_range, ite, K, M), dtype= complex)\n",
    "G= np.zeros((P_range, ite, N, M), dtype= complex)\n",
    "for p in range(P_range):\n",
    "  for j in range(ite):\n",
    "    CG= GC(K, M, N)\n",
    "    Hd2, Hr2, G2= CG.Generate_Channels()\n",
    "    Hd[p, j, :, :]= Hd2.T\n",
    "    Hr[p, j, :, :]= Hr2.T\n",
    "    G[p, j, :, :]= G2\n",
    "\n",
    "print('Hd=',Hd[0,0,:,:].shape)\n",
    "print('Hr=',Hr[0,0,:,:].shape)\n",
    "print('G=',G[0,0,:,:].shape)"
   ]
  },
  {
   "cell_type": "markdown",
   "metadata": {},
   "source": [
    "ALTERNATING OPTIMISATION"
   ]
  },
  {
   "cell_type": "code",
   "execution_count": 26,
   "metadata": {},
   "outputs": [
    {
     "name": "stdout",
     "output_type": "stream",
     "text": [
      "(8, 1000, 3, 4)\n",
      "(4, 3)\n"
     ]
    }
   ],
   "source": [
    "Ch_eq = np.zeros((P_range,ite,K,M), dtype='complex')\n",
    "P_user = np.zeros((P_range,K))\n",
    "print(Ch_eq.shape)\n",
    "print(W.shape)"
   ]
  },
  {
   "cell_type": "code",
   "execution_count": 24,
   "metadata": {},
   "outputs": [],
   "source": [
    "\n",
    "def Alternating_Optimisation( P, K):\n",
    "    iter_max = 4\n",
    "\n",
    "\n",
    "    theta_AO = np.zeros((P_range, ite,N,K))\n",
    "    rate_AO = np.zeros((K))\n",
    "    rate_i = np.zeros((ite,K, iter_max))\n",
    "    print(P)\n",
    "    for j in range(ite):\n",
    "        W = np.sqrt(P/K) * W_1 / np.linalg.norm(W_1,axis=0)\n",
    "        \n",
    "        for i in range(K):\n",
    "            temp = 0\n",
    "            for iter in range(iter_max):\n",
    "                theta= np.angle(Hd[j,i,:] @ W[:,i]) - np.angle((np.diag(Hr[j,i,:]) @ G[j,:,:] @ W[:,i])) \n",
    "                v = np.exp(1j*theta)\n",
    "                Theta = np.diag(v)  \n",
    "\n",
    "                Ch_eq[j,i,:] = Hd[j,i,:] + Hr[j,i,:] @ Theta @ G[j,:,:]\n",
    "                W[:,i] = np.sqrt(P/K) * np.conj(Ch_eq[j,i,:]).T / np.linalg.norm(Ch_eq[j,i,:])  #MRT equation\n",
    "            for k in range(K):\n",
    "                if k != i:\n",
    "                    temp += (np.linalg.norm(Ch_eq[j,i,:] @ W[:,k]))**2\n",
    "\n",
    "            rate_i[j,i,iter] = np.log2(1+(np.linalg.norm(Ch_eq[j,i,:] @ W[:,i]) **2)/ (temp + noise))\n",
    "                #print(rate_i[j,iter])\n",
    "            theta_AO[j,:,i] = theta  # optimised Phase Shifts value for user 'x'\n",
    "    for i in range(K):\n",
    "        rate_AO[i] = np.mean(rate_i[:,i,iter_max-1], axis=0)\n",
    "    \n",
    "    return  theta_AO\n",
    "    \n",
    "     "
   ]
  },
  {
   "cell_type": "markdown",
   "metadata": {},
   "source": [
    "need to fix the phase-shift for 3 users, taking one at a time"
   ]
  },
  {
   "cell_type": "code",
   "execution_count": 25,
   "metadata": {},
   "outputs": [
    {
     "name": "stdout",
     "output_type": "stream",
     "text": [
      "0.0031622776601683794\n"
     ]
    },
    {
     "ename": "ValueError",
     "evalue": "matmul: Input operand 1 has a mismatch in its core dimension 0, with gufunc signature (n?,k),(k,m?)->(n?,m?) (size 150 is different from 3)",
     "output_type": "error",
     "traceback": [
      "\u001b[1;31m---------------------------------------------------------------------------\u001b[0m",
      "\u001b[1;31mValueError\u001b[0m                                Traceback (most recent call last)",
      "Cell \u001b[1;32mIn[25], line 4\u001b[0m\n\u001b[0;32m      1\u001b[0m \u001b[38;5;28;01mfor\u001b[39;00m p \u001b[38;5;129;01min\u001b[39;00m \u001b[38;5;28mrange\u001b[39m(P_range):\n\u001b[0;32m      2\u001b[0m     P \u001b[38;5;241m=\u001b[39m \u001b[38;5;241m10\u001b[39m \u001b[38;5;241m*\u001b[39m\u001b[38;5;241m*\u001b[39m (power_dBm[p]\u001b[38;5;241m/\u001b[39m\u001b[38;5;241m10\u001b[39m) \u001b[38;5;241m*\u001b[39m \u001b[38;5;241m0.001\u001b[39m\n\u001b[1;32m----> 4\u001b[0m     theta0_zf \u001b[38;5;241m=\u001b[39m \u001b[43mAlternating_Optimisation\u001b[49m\u001b[43m(\u001b[49m\u001b[43mP\u001b[49m\u001b[43m,\u001b[49m\u001b[43m \u001b[49m\u001b[43mK\u001b[49m\u001b[43m)\u001b[49m\n\u001b[0;32m      5\u001b[0m     \u001b[38;5;28mprint\u001b[39m(theta0_zf)\n",
      "Cell \u001b[1;32mIn[24], line 15\u001b[0m, in \u001b[0;36mAlternating_Optimisation\u001b[1;34m(P, K)\u001b[0m\n\u001b[0;32m     13\u001b[0m temp \u001b[38;5;241m=\u001b[39m \u001b[38;5;241m0\u001b[39m\n\u001b[0;32m     14\u001b[0m \u001b[38;5;28;01mfor\u001b[39;00m \u001b[38;5;28miter\u001b[39m \u001b[38;5;129;01min\u001b[39;00m \u001b[38;5;28mrange\u001b[39m(iter_max):\n\u001b[1;32m---> 15\u001b[0m     theta\u001b[38;5;241m=\u001b[39m np\u001b[38;5;241m.\u001b[39mangle(Hd[j,i,:] \u001b[38;5;241m@\u001b[39m W[:,i]) \u001b[38;5;241m-\u001b[39m np\u001b[38;5;241m.\u001b[39mangle((\u001b[43mnp\u001b[49m\u001b[38;5;241;43m.\u001b[39;49m\u001b[43mdiag\u001b[49m\u001b[43m(\u001b[49m\u001b[43mHr\u001b[49m\u001b[43m[\u001b[49m\u001b[43mj\u001b[49m\u001b[43m,\u001b[49m\u001b[43mi\u001b[49m\u001b[43m,\u001b[49m\u001b[43m:\u001b[49m\u001b[43m]\u001b[49m\u001b[43m)\u001b[49m\u001b[43m \u001b[49m\u001b[38;5;241;43m@\u001b[39;49m\u001b[43m \u001b[49m\u001b[43mG\u001b[49m\u001b[43m[\u001b[49m\u001b[43mj\u001b[49m\u001b[43m,\u001b[49m\u001b[43m:\u001b[49m\u001b[43m,\u001b[49m\u001b[43m:\u001b[49m\u001b[43m]\u001b[49m \u001b[38;5;241m@\u001b[39m W[:,i])) \n\u001b[0;32m     16\u001b[0m     v \u001b[38;5;241m=\u001b[39m np\u001b[38;5;241m.\u001b[39mexp(\u001b[38;5;241m1\u001b[39mj\u001b[38;5;241m*\u001b[39mtheta)\n\u001b[0;32m     17\u001b[0m     Theta \u001b[38;5;241m=\u001b[39m np\u001b[38;5;241m.\u001b[39mdiag(v)  \n",
      "\u001b[1;31mValueError\u001b[0m: matmul: Input operand 1 has a mismatch in its core dimension 0, with gufunc signature (n?,k),(k,m?)->(n?,m?) (size 150 is different from 3)"
     ]
    }
   ],
   "source": [
    "for p in range(P_range):\n",
    "    P = 10 ** (power_dBm[p]/10) * 0.001\n",
    "    \n",
    "    theta0_zf = Alternating_Optimisation(P, K)\n",
    "    print(theta0_zf)\n",
    "\n"
   ]
  }
 ],
 "metadata": {
  "kernelspec": {
   "display_name": "Python 3",
   "language": "python",
   "name": "python3"
  },
  "language_info": {
   "codemirror_mode": {
    "name": "ipython",
    "version": 3
   },
   "file_extension": ".py",
   "mimetype": "text/x-python",
   "name": "python",
   "nbconvert_exporter": "python",
   "pygments_lexer": "ipython3",
   "version": "3.11.9"
  }
 },
 "nbformat": 4,
 "nbformat_minor": 2
}
