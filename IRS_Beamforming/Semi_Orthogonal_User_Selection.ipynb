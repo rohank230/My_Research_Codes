{
 "cells": [
  {
   "cell_type": "code",
   "execution_count": 105,
   "metadata": {},
   "outputs": [],
   "source": [
    "import numpy as np\n",
    "import random\n",
    "import matplotlib.pyplot as plt\n",
    "from Channel_Generation_5 import Channel_Generation_5 as GC"
   ]
  },
  {
   "cell_type": "code",
   "execution_count": 106,
   "metadata": {},
   "outputs": [
    {
     "name": "stdout",
     "output_type": "stream",
     "text": [
      "-80.0\n",
      "1e-11\n"
     ]
    }
   ],
   "source": [
    "K=4  #No. of users\n",
    "noise = -160 + 10 * np.log10(100 * 1e6)   # noise in dBm\n",
    "print(noise)\n",
    "\n",
    "ite = 10 #no of channel realisations\n",
    "\n",
    "noise = 10 ** (noise/10 - 3) #linear scale\n",
    "\n",
    "print(noise)\n",
    "N = 100                      #no of elements in IRS\n",
    "M = 2                        #no of Tx. Antennas\n",
    "\n",
    "P = 1e-3                    # power in watts"
   ]
  },
  {
   "cell_type": "code",
   "execution_count": 107,
   "metadata": {},
   "outputs": [
    {
     "name": "stdout",
     "output_type": "stream",
     "text": [
      "(2, 4)\n"
     ]
    }
   ],
   "source": [
    "W_1 =  np.random.rand(M,K) + 1j * np.random.rand(M,K)\n",
    "W = np.zeros((M,K), dtype='complex')    # initialising the BF vectors\n",
    "for k in range(K):\n",
    "  # When K users are served power is equally split among users\n",
    "  W[:,k] = np.sqrt(1/K) * W_1[:,k] / np.linalg.norm(W_1[:,k])\n",
    "print(W.shape)"
   ]
  },
  {
   "cell_type": "code",
   "execution_count": 108,
   "metadata": {},
   "outputs": [
    {
     "name": "stdout",
     "output_type": "stream",
     "text": [
      "(100, 100)\n"
     ]
    }
   ],
   "source": [
    "# Initialising the phases at IRS\n",
    "phase0 = np.random.rand(N)*2*np.pi\n",
    "v = np.exp(1j*phase0)\n",
    "Theta = np.diag(v)\n",
    "print(Theta.shape)"
   ]
  },
  {
   "cell_type": "code",
   "execution_count": 109,
   "metadata": {},
   "outputs": [],
   "source": [
    "#GENERATE THE CHANNELS for each tx power value and each channel realization\n",
    "\n",
    "Hr= np.zeros(( ite, K, N), dtype= 'complex')\n",
    "Hd= np.zeros(( ite, K, M), dtype= 'complex')\n",
    "G= np.zeros(( ite, N, M), dtype= 'complex')\n",
    "\n",
    "for j in range(ite):\n",
    "    CG= GC(K, M, N)\n",
    "    Hd2, Hr2, G2= CG.Generate_Channels()\n",
    "    Hd[j, :, :]= Hd2.T\n",
    "    Hr[j, :, :]= Hr2.T\n",
    "    G[j, :, :]= G2\n",
    "\n",
    "H_eq = np.zeros((ite,K,M) ,dtype='complex')   # Channel Equalisation\n",
    "\n",
    "for j in range(ite):\n",
    "    H_eq[j,:,:] = Hd[j,:,:] +   Hr[j,:,:] @ Theta @ G[j,:,:]"
   ]
  },
  {
   "cell_type": "code",
   "execution_count": 110,
   "metadata": {},
   "outputs": [],
   "source": [
    "def SUS(h,alpha, X):  #X is the no of users to be selected\n",
    "    #step 1\n",
    "    g = np.zeros((K,M), dtype='complex') \n",
    "    T1 = np.arange(K)\n",
    "    iter = X\n",
    "    list_g = []\n",
    "    s = []\n",
    "    g_sel = np.random.rand(iter, 1, M) + 1j * np.random.rand(iter, 1, M)  # Initialize with random complex numbers\n",
    "\n",
    "    #g_sel = np.ones((iter,1,M), dtype='complex')   #stores one row and all columns\n",
    "    h_sel = np.zeros((iter, 1,M), dtype='complex')   #stores one row and all columns\n",
    "    T_j = []\n",
    "    sum= np.zeros((K,M), dtype='complex')\n",
    " \n",
    "    for j in range(iter):    \n",
    "        for k in range(len(T1)):\n",
    "            norm_g_sel = np.linalg.norm(g_sel[j, :, :])\n",
    "            if norm_g_sel == 0:\n",
    "                norm_g_sel = 1  # Prevent division by zero\n",
    "            sum[k,:] = sum[k,:] + (h[k,:] @ np.conj(g_sel[j,:,:]).T @ g_sel[j,:,:])/norm_g_sel\n",
    "\n",
    "            g[k,:] = h[k,:] - sum[k,:]\n",
    "            print(f'g[k,:]=',g[k,:])\n",
    "            print('the norm of g for each user=', np.linalg.norm(g[k,:]))\n",
    "            list_g.append(g[k,:])\n",
    "        print(\"the list_g is :\",list_g)\n",
    "        norm_g = np.linalg.norm(g, axis=1)\n",
    "\n",
    "        #step 3\n",
    "        #print(\"the max value of the norm is \", np.linalg.norm(g[:,:]))\n",
    "        index = np.argmax(norm_g)\n",
    "        print('index=',index)\n",
    "        s.append(index)\n",
    "        print('selected user=',s)\n",
    "        h_sel[j,:,:] = h[index,:]\n",
    "        g_sel[j,:,:] = g[index,:]\n",
    "\n",
    "        if len(s) < X:\n",
    "            T_j =[]\n",
    "            for k in range(len(T1)):\n",
    "                if k != index:\n",
    "                    if (h[k,:] @ np.conj(g_sel[j,:,:]).T)/((np.linalg.norm(h[k,:]) * np.linalg.norm(g_sel[j,:,:]))) < alpha:\n",
    "                        T_j.append(k)\n",
    "            T1 = T_j\n",
    "            print(T1)\n",
    "            if len(T_j) == 0:\n",
    "                break\n",
    "\n",
    "    return s, g_sel, h_sel\n",
    "\n",
    "            \n",
    "        \n",
    "\n",
    "\n",
    "\n",
    "    "
   ]
  },
  {
   "cell_type": "code",
   "execution_count": 111,
   "metadata": {},
   "outputs": [
    {
     "name": "stdout",
     "output_type": "stream",
     "text": [
      "g[k,:]= [-0.00062065-0.00094098j  0.0002519 +0.00029656j]\n",
      "the norm of g for each user= 0.0011924993020571498\n",
      "g[k,:]= [ 0.00024874-0.00031691j -0.00016107+0.00020644j]\n",
      "the norm of g for each user= 0.00048048288533939003\n",
      "g[k,:]= [-0.00109441+0.00121462j  0.00060357-0.00056156j]\n",
      "the norm of g for each user= 0.0018310339858874398\n",
      "g[k,:]= [-0.00081921+0.00085932j  0.00041263-0.00071989j]\n",
      "the norm of g for each user= 0.0014484598612903203\n",
      "the list_g is : [array([-0.00062065-0.00094098j,  0.0002519 +0.00029656j]), array([ 0.00024874-0.00031691j, -0.00016107+0.00020644j]), array([-0.00109441+0.00121462j,  0.00060357-0.00056156j]), array([-0.00081921+0.00085932j,  0.00041263-0.00071989j])]\n",
      "index= 2\n",
      "selected user= [2]\n",
      "[0, 1]\n",
      "g[k,:]= [-0.00122868-0.00150919j -0.00110482-0.00065401j]\n",
      "the norm of g for each user= 0.0023314508559740452\n",
      "g[k,:]= [ 2.95790219e-05-0.00034407j -6.00607684e-04+0.00021396j]\n",
      "the norm of g for each user= 0.0007250963568725306\n",
      "the list_g is : [array([-0.00122868-0.00150919j, -0.00110482-0.00065401j]), array([ 2.95790219e-05-0.00034407j, -6.00607684e-04+0.00021396j]), array([-0.00109441+0.00121462j,  0.00060357-0.00056156j]), array([-0.00081921+0.00085932j,  0.00041263-0.00071989j]), array([-0.00122868-0.00150919j, -0.00110482-0.00065401j]), array([ 2.95790219e-05-0.00034407j, -6.00607684e-04+0.00021396j])]\n",
      "index= 0\n",
      "selected user= [2, 0]\n"
     ]
    }
   ],
   "source": [
    "a,b,c = SUS(H_eq[3,:,:],0.5,2)"
   ]
  },
  {
   "cell_type": "code",
   "execution_count": 112,
   "metadata": {},
   "outputs": [
    {
     "name": "stdout",
     "output_type": "stream",
     "text": [
      "[0 1 2 3]\n",
      "[0 2 3]\n"
     ]
    }
   ],
   "source": [
    "\n",
    "import numpy as np\n",
    "K=4\n",
    "t=np.arange(K)\n",
    "print(t)\n",
    "t=np.delete(t,1)\n",
    "print(t)\n",
    "# for i in range(let):\n",
    "    # print(i)\n",
    "\n"
   ]
  }
 ],
 "metadata": {
  "kernelspec": {
   "display_name": "Python 3",
   "language": "python",
   "name": "python3"
  },
  "language_info": {
   "codemirror_mode": {
    "name": "ipython",
    "version": 3
   },
   "file_extension": ".py",
   "mimetype": "text/x-python",
   "name": "python",
   "nbconvert_exporter": "python",
   "pygments_lexer": "ipython3",
   "version": "3.11.9"
  }
 },
 "nbformat": 4,
 "nbformat_minor": 2
}
